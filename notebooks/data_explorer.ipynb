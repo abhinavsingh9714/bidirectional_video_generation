{
 "cells": [
  {
   "cell_type": "markdown",
   "id": "98183e4b",
   "metadata": {},
   "source": [
    "# Data Exploration"
   ]
  },
  {
   "cell_type": "markdown",
   "id": "e83163ac",
   "metadata": {},
   "source": [
    "### converting downloaded data to json"
   ]
  },
  {
   "cell_type": "code",
   "execution_count": 1,
   "id": "aed65c67",
   "metadata": {},
   "outputs": [],
   "source": [
    "import pandas as pd\n",
    "import json\n",
    "import urllib.request\n",
    "import cv2\n",
    "import os\n",
    "import time\n",
    "from tqdm import tqdm"
   ]
  },
  {
   "cell_type": "code",
   "execution_count": 2,
   "id": "7e5381d4",
   "metadata": {},
   "outputs": [],
   "source": [
    "import json\n",
    "\n",
    "# reading json\n",
    "with open('curl_output.json', 'r') as file:\n",
    "    data = json.load(file)\n",
    "\n",
    "# print(data)"
   ]
  },
  {
   "cell_type": "code",
   "execution_count": 3,
   "id": "897d0fb0",
   "metadata": {},
   "outputs": [],
   "source": [
    "# print(json.dumps(data, indent=2))"
   ]
  },
  {
   "cell_type": "code",
   "execution_count": 4,
   "id": "eed39dbc",
   "metadata": {},
   "outputs": [
    {
     "data": {
      "text/plain": [
       "dict"
      ]
     },
     "execution_count": 4,
     "metadata": {},
     "output_type": "execute_result"
    }
   ],
   "source": [
    "type(data)"
   ]
  },
  {
   "cell_type": "code",
   "execution_count": 5,
   "id": "5e7a4332",
   "metadata": {},
   "outputs": [
    {
     "data": {
      "text/html": [
       "<div>\n",
       "<style scoped>\n",
       "    .dataframe tbody tr th:only-of-type {\n",
       "        vertical-align: middle;\n",
       "    }\n",
       "\n",
       "    .dataframe tbody tr th {\n",
       "        vertical-align: top;\n",
       "    }\n",
       "\n",
       "    .dataframe thead th {\n",
       "        text-align: right;\n",
       "    }\n",
       "</style>\n",
       "<table border=\"1\" class=\"dataframe\">\n",
       "  <thead>\n",
       "    <tr style=\"text-align: right;\">\n",
       "      <th></th>\n",
       "      <th>row_idx</th>\n",
       "      <th>row</th>\n",
       "      <th>truncated_cells</th>\n",
       "    </tr>\n",
       "  </thead>\n",
       "  <tbody>\n",
       "    <tr>\n",
       "      <th>0</th>\n",
       "      <td>0</td>\n",
       "      <td>{'videoid': 21179416, 'contentUrl': 'https://a...</td>\n",
       "      <td>[]</td>\n",
       "    </tr>\n",
       "    <tr>\n",
       "      <th>1</th>\n",
       "      <td>1</td>\n",
       "      <td>{'videoid': 5629184, 'contentUrl': 'https://ak...</td>\n",
       "      <td>[]</td>\n",
       "    </tr>\n",
       "    <tr>\n",
       "      <th>2</th>\n",
       "      <td>2</td>\n",
       "      <td>{'videoid': 1063125190, 'contentUrl': 'https:/...</td>\n",
       "      <td>[]</td>\n",
       "    </tr>\n",
       "    <tr>\n",
       "      <th>3</th>\n",
       "      <td>3</td>\n",
       "      <td>{'videoid': 1039695998, 'contentUrl': 'https:/...</td>\n",
       "      <td>[]</td>\n",
       "    </tr>\n",
       "    <tr>\n",
       "      <th>4</th>\n",
       "      <td>4</td>\n",
       "      <td>{'videoid': 9607838, 'contentUrl': 'https://ak...</td>\n",
       "      <td>[]</td>\n",
       "    </tr>\n",
       "    <tr>\n",
       "      <th>...</th>\n",
       "      <td>...</td>\n",
       "      <td>...</td>\n",
       "      <td>...</td>\n",
       "    </tr>\n",
       "    <tr>\n",
       "      <th>95</th>\n",
       "      <td>95</td>\n",
       "      <td>{'videoid': 9005344, 'contentUrl': 'https://ak...</td>\n",
       "      <td>[]</td>\n",
       "    </tr>\n",
       "    <tr>\n",
       "      <th>96</th>\n",
       "      <td>96</td>\n",
       "      <td>{'videoid': 31040395, 'contentUrl': 'https://a...</td>\n",
       "      <td>[]</td>\n",
       "    </tr>\n",
       "    <tr>\n",
       "      <th>97</th>\n",
       "      <td>97</td>\n",
       "      <td>{'videoid': 24421982, 'contentUrl': 'https://a...</td>\n",
       "      <td>[]</td>\n",
       "    </tr>\n",
       "    <tr>\n",
       "      <th>98</th>\n",
       "      <td>98</td>\n",
       "      <td>{'videoid': 16522138, 'contentUrl': 'https://a...</td>\n",
       "      <td>[]</td>\n",
       "    </tr>\n",
       "    <tr>\n",
       "      <th>99</th>\n",
       "      <td>99</td>\n",
       "      <td>{'videoid': 1036347950, 'contentUrl': 'https:/...</td>\n",
       "      <td>[]</td>\n",
       "    </tr>\n",
       "  </tbody>\n",
       "</table>\n",
       "<p>100 rows × 3 columns</p>\n",
       "</div>"
      ],
      "text/plain": [
       "    row_idx                                                row truncated_cells\n",
       "0         0  {'videoid': 21179416, 'contentUrl': 'https://a...              []\n",
       "1         1  {'videoid': 5629184, 'contentUrl': 'https://ak...              []\n",
       "2         2  {'videoid': 1063125190, 'contentUrl': 'https:/...              []\n",
       "3         3  {'videoid': 1039695998, 'contentUrl': 'https:/...              []\n",
       "4         4  {'videoid': 9607838, 'contentUrl': 'https://ak...              []\n",
       "..      ...                                                ...             ...\n",
       "95       95  {'videoid': 9005344, 'contentUrl': 'https://ak...              []\n",
       "96       96  {'videoid': 31040395, 'contentUrl': 'https://a...              []\n",
       "97       97  {'videoid': 24421982, 'contentUrl': 'https://a...              []\n",
       "98       98  {'videoid': 16522138, 'contentUrl': 'https://a...              []\n",
       "99       99  {'videoid': 1036347950, 'contentUrl': 'https:/...              []\n",
       "\n",
       "[100 rows x 3 columns]"
      ]
     },
     "execution_count": 5,
     "metadata": {},
     "output_type": "execute_result"
    }
   ],
   "source": [
    "pd.DataFrame(data['rows'], )"
   ]
  },
  {
   "cell_type": "code",
   "execution_count": 6,
   "id": "7e8c9668",
   "metadata": {},
   "outputs": [],
   "source": [
    "data_intermediate = pd.DataFrame(data['rows'])['row']"
   ]
  },
  {
   "cell_type": "markdown",
   "id": "2b36853c",
   "metadata": {},
   "source": [
    "## dataframe creation"
   ]
  },
  {
   "cell_type": "code",
   "execution_count": 7,
   "id": "36ca2465",
   "metadata": {},
   "outputs": [
    {
     "data": {
      "text/html": [
       "<div>\n",
       "<style scoped>\n",
       "    .dataframe tbody tr th:only-of-type {\n",
       "        vertical-align: middle;\n",
       "    }\n",
       "\n",
       "    .dataframe tbody tr th {\n",
       "        vertical-align: top;\n",
       "    }\n",
       "\n",
       "    .dataframe thead th {\n",
       "        text-align: right;\n",
       "    }\n",
       "</style>\n",
       "<table border=\"1\" class=\"dataframe\">\n",
       "  <thead>\n",
       "    <tr style=\"text-align: right;\">\n",
       "      <th></th>\n",
       "      <th>videoid</th>\n",
       "      <th>contentUrl</th>\n",
       "      <th>name</th>\n",
       "    </tr>\n",
       "  </thead>\n",
       "  <tbody>\n",
       "    <tr>\n",
       "      <th>0</th>\n",
       "      <td>21179416</td>\n",
       "      <td>https://ak.picdn.net/shutterstock/videos/21179...</td>\n",
       "      <td>Aerial shot winter forest</td>\n",
       "    </tr>\n",
       "    <tr>\n",
       "      <th>1</th>\n",
       "      <td>5629184</td>\n",
       "      <td>https://ak.picdn.net/shutterstock/videos/56291...</td>\n",
       "      <td>Senior couple looking through binoculars on sa...</td>\n",
       "    </tr>\n",
       "    <tr>\n",
       "      <th>2</th>\n",
       "      <td>1063125190</td>\n",
       "      <td>https://ak.picdn.net/shutterstock/videos/10631...</td>\n",
       "      <td>A beautiful cookie with oranges lies on a gree...</td>\n",
       "    </tr>\n",
       "    <tr>\n",
       "      <th>3</th>\n",
       "      <td>1039695998</td>\n",
       "      <td>https://ak.picdn.net/shutterstock/videos/10396...</td>\n",
       "      <td>Japanese highrise office skyscrapers tokyo square</td>\n",
       "    </tr>\n",
       "    <tr>\n",
       "      <th>4</th>\n",
       "      <td>9607838</td>\n",
       "      <td>https://ak.picdn.net/shutterstock/videos/96078...</td>\n",
       "      <td>Zrenjanin,serbia march 21 2015: fans watching ...</td>\n",
       "    </tr>\n",
       "  </tbody>\n",
       "</table>\n",
       "</div>"
      ],
      "text/plain": [
       "      videoid                                         contentUrl  \\\n",
       "0    21179416  https://ak.picdn.net/shutterstock/videos/21179...   \n",
       "1     5629184  https://ak.picdn.net/shutterstock/videos/56291...   \n",
       "2  1063125190  https://ak.picdn.net/shutterstock/videos/10631...   \n",
       "3  1039695998  https://ak.picdn.net/shutterstock/videos/10396...   \n",
       "4     9607838  https://ak.picdn.net/shutterstock/videos/96078...   \n",
       "\n",
       "                                                name  \n",
       "0                          Aerial shot winter forest  \n",
       "1  Senior couple looking through binoculars on sa...  \n",
       "2  A beautiful cookie with oranges lies on a gree...  \n",
       "3  Japanese highrise office skyscrapers tokyo square  \n",
       "4  Zrenjanin,serbia march 21 2015: fans watching ...  "
      ]
     },
     "execution_count": 7,
     "metadata": {},
     "output_type": "execute_result"
    }
   ],
   "source": [
    "df = pd.DataFrame([\n",
    "    {\n",
    "        'videoid': item['videoid'],\n",
    "        'contentUrl': item['contentUrl'],\n",
    "        'name': item['name']\n",
    "    }\n",
    "    for item in data_intermediate\n",
    "])\n",
    "\n",
    "df.head()"
   ]
  },
  {
   "cell_type": "code",
   "execution_count": 11,
   "id": "048903f2",
   "metadata": {},
   "outputs": [
    {
     "name": "stdout",
     "output_type": "stream",
     "text": [
      "videoid                                              1021208680\n",
      "contentUrl    https://ak.picdn.net/shutterstock/videos/10212...\n",
      "name          Circa 1950s - natural gas is used as power in ...\n",
      "Name: 50, dtype: object\n"
     ]
    }
   ],
   "source": [
    "print(df.iloc[50])"
   ]
  },
  {
   "cell_type": "markdown",
   "id": "b02c7a7e",
   "metadata": {},
   "source": [
    "### video extraction"
   ]
  },
  {
   "cell_type": "code",
   "execution_count": 12,
   "id": "4e54763f",
   "metadata": {},
   "outputs": [
    {
     "data": {
      "text/plain": [
       "('videos/1021208680.mp4', <http.client.HTTPMessage at 0x12d3b6de0>)"
      ]
     },
     "execution_count": 12,
     "metadata": {},
     "output_type": "execute_result"
    }
   ],
   "source": [
    "video_info = df.iloc[50]\n",
    "url_link = video_info['contentUrl']\n",
    "\n",
    "os.makedirs('videos')\n",
    "\n",
    "import urllib.request\n",
    "urllib.request.urlretrieve(url_link, f'videos/{video_info['videoid']}.mp4') "
   ]
  },
  {
   "cell_type": "code",
   "execution_count": 13,
   "id": "a4a710f2",
   "metadata": {},
   "outputs": [
    {
     "name": "stdout",
     "output_type": "stream",
     "text": [
      "1904\n"
     ]
    }
   ],
   "source": [
    "import cv2\n",
    "vidcap = cv2.VideoCapture(f'videos/{video_info['videoid']}.mp4')\n",
    "total_frames = int(vidcap.get(cv2.CAP_PROP_FRAME_COUNT))\n",
    "print( total_frames )\n",
    "success,image = vidcap.read()\n",
    "count = 0\n",
    "\n",
    "while success:\n",
    "  success,image = vidcap.read()\n",
    "  if count == total_frames//2: \n",
    "    cv2.imwrite(f\"images/{video_info['videoid']}.jpg\", image)     # save frame as JPEG file      \n",
    "#   print('Read a new frame: ', success)\n",
    "  count += 1\n"
   ]
  },
  {
   "cell_type": "markdown",
   "id": "2d56f9c8",
   "metadata": {},
   "source": [
    "## Dataset creating Function"
   ]
  },
  {
   "cell_type": "code",
   "execution_count": 14,
   "id": "93bababc",
   "metadata": {},
   "outputs": [],
   "source": [
    "def extract_mid_frame(video_path, output_path):\n",
    "    vidcap = cv2.VideoCapture(video_path)\n",
    "    if not vidcap.isOpened():\n",
    "        raise IOError(f\"Cannot open video: {video_path}\")\n",
    "    \n",
    "    total_frames = int(vidcap.get(cv2.CAP_PROP_FRAME_COUNT))\n",
    "    if total_frames <= 0:\n",
    "        raise ValueError(f\"No frames found in: {video_path}\")\n",
    "\n",
    "    mid_frame = total_frames // 2\n",
    "    vidcap.set(cv2.CAP_PROP_POS_FRAMES, mid_frame) # jump directly to middle frame instead of reading all frames\n",
    "\n",
    "    success, image = vidcap.read()\n",
    "    vidcap.release()\n",
    "\n",
    "    if not success:\n",
    "        raise ValueError(\"Failed to read middle frame\")\n",
    "\n",
    "    cv2.imwrite(output_path, image)"
   ]
  },
  {
   "cell_type": "code",
   "execution_count": 15,
   "id": "426bcb0d",
   "metadata": {},
   "outputs": [],
   "source": [
    "# function check \n",
    "\n",
    "extract_mid_frame(f'videos/{video_info['videoid']}.mp4', f\"images/{video_info['videoid']}.jpg\")"
   ]
  },
  {
   "cell_type": "code",
   "execution_count": 20,
   "id": "8b382f11",
   "metadata": {},
   "outputs": [],
   "source": [
    "def getData(json_file):\n",
    "    # reading json and creating DataFrame\n",
    "    with open('curl_output.json', 'r') as file:\n",
    "        data = json.load(file)\n",
    "\n",
    "    data_intermediate = pd.DataFrame(data['rows'])['row']\n",
    "\n",
    "    df = pd.DataFrame([\n",
    "        {\n",
    "            'videoid': item['videoid'],\n",
    "            'contentUrl': item['contentUrl'],\n",
    "            'name': item['name']\n",
    "        }\n",
    "        for item in data_intermediate\n",
    "    ])[:5] # limiting to 5 for testing ** REMOVE FOR FULL RUN **\n",
    "\n",
    "    # ** UNCOMMENT IF FOLDERS DO NOT EXIST **\n",
    "    os.makedirs(\"videos\", exist_ok=True)\n",
    "    os.makedirs(\"images\", exist_ok=True)\n",
    "\n",
    "    # video and frame extraction\n",
    "    for row in tqdm(df.itertuples(index=False), total=len(df)):\n",
    "        # downloading videos\n",
    "        video_id = row.videoid\n",
    "        url = row.contentUrl\n",
    "        video_filename = f\"videos/{video_id}.mp4\"\n",
    "\n",
    "        try:\n",
    "            urllib.request.urlretrieve(url, video_filename)\n",
    "            time.sleep(0.5)  # prevent 429 errors\n",
    "        except Exception as e:\n",
    "            print(f\"Failed: {video_id} - {e}\")\n",
    "\n",
    "        # extracting frames\n",
    "        extract_mid_frame(video_filename, f'images/{video_id}.jpg')\n",
    "\n",
    "    # appending to dataframe\n",
    "    df['video_path'] = df['videoid'].apply(lambda vid: os.path.join('videos', f'{vid}.mp4'))\n",
    "    df['image_path'] = df['videoid'].apply(lambda vid: os.path.join('images', f'{vid}.jpg'))\n",
    "\n",
    "    df.to_csv(\"webvid_extended_dataset.csv\", index=False)\n",
    "\n",
    "    return df"
   ]
  },
  {
   "cell_type": "code",
   "execution_count": 21,
   "id": "c20f1502",
   "metadata": {},
   "outputs": [
    {
     "name": "stderr",
     "output_type": "stream",
     "text": [
      "100%|██████████| 5/5 [00:03<00:00,  1.56it/s]\n"
     ]
    }
   ],
   "source": [
    "final_df = getData('curl_output.json')"
   ]
  },
  {
   "cell_type": "markdown",
   "id": "a8f1bf9b",
   "metadata": {},
   "source": [
    "## Uploading on AWS S3"
   ]
  },
  {
   "cell_type": "code",
   "execution_count": null,
   "id": "04652fa3",
   "metadata": {},
   "outputs": [
    {
     "name": "stdout",
     "output_type": "stream",
     "text": [
      "Uploading to: s3://it-ml-bucket/ivc_data/images/21179416.jpg\n",
      " Uploaded: images/21179416.jpg → s3://it-ml-bucket/ivc_data/images/21179416.jpg\n",
      "Uploading to: s3://it-ml-bucket/ivc_data/images/1063125190.jpg\n",
      " Uploaded: images/1063125190.jpg → s3://it-ml-bucket/ivc_data/images/1063125190.jpg\n",
      "Uploading to: s3://it-ml-bucket/ivc_data/images/1039695998.jpg\n",
      " Uploaded: images/1039695998.jpg → s3://it-ml-bucket/ivc_data/images/1039695998.jpg\n",
      "Uploading to: s3://it-ml-bucket/ivc_data/images/9607838.jpg\n",
      " Uploaded: images/9607838.jpg → s3://it-ml-bucket/ivc_data/images/9607838.jpg\n",
      "Uploading to: s3://it-ml-bucket/ivc_data/images/5629184.jpg\n",
      " Uploaded: images/5629184.jpg → s3://it-ml-bucket/ivc_data/images/5629184.jpg\n",
      "Uploading to: s3://it-ml-bucket/ivc_data/videos/1039695998.mp4\n",
      " Uploaded: videos/1039695998.mp4 → s3://it-ml-bucket/ivc_data/videos/1039695998.mp4\n",
      "Uploading to: s3://it-ml-bucket/ivc_data/videos/5629184.mp4\n",
      " Uploaded: videos/5629184.mp4 → s3://it-ml-bucket/ivc_data/videos/5629184.mp4\n",
      "Uploading to: s3://it-ml-bucket/ivc_data/videos/9607838.mp4\n",
      " Uploaded: videos/9607838.mp4 → s3://it-ml-bucket/ivc_data/videos/9607838.mp4\n",
      "Uploading to: s3://it-ml-bucket/ivc_data/videos/1063125190.mp4\n",
      " Uploaded: videos/1063125190.mp4 → s3://it-ml-bucket/ivc_data/videos/1063125190.mp4\n",
      "Uploading to: s3://it-ml-bucket/ivc_data/videos/21179416.mp4\n",
      " Uploaded: videos/21179416.mp4 → s3://it-ml-bucket/ivc_data/videos/21179416.mp4\n"
     ]
    }
   ],
   "source": [
    "import boto3\n",
    "import os\n",
    "from boto3.session import Session\n",
    "\n",
    "# Set these\n",
    "bucket_name = 'it-ml-bucket'  \n",
    "base_dirs = ['images', 'videos']  # Folders to upload\n",
    "s3_prefix = 'ivc_data/'        # S3 folder prefix\n",
    "\n",
    "session = Session(profile_name=\"default\")   # solution to signature mismatch\n",
    "s3 = session.client(\"s3\")\n",
    "\n",
    "for base_dir in base_dirs:\n",
    "    for file_name in os.listdir(base_dir):\n",
    "\n",
    "        local_path = os.path.join(base_dir, file_name)\n",
    "\n",
    "        if os.path.isfile(local_path):\n",
    "            s3_path = f\"{s3_prefix}{base_dir}/{file_name}\"  # e.g., webvid_data/images/xxx.jpg\n",
    "            try:\n",
    "                print(\"Uploading to:\", f\"s3://{bucket_name}/{s3_path}\")\n",
    "                s3.upload_file(local_path, bucket_name, s3_path)\n",
    "                print(f\" Uploaded: {local_path} → s3://{bucket_name}/{s3_path}\")\n",
    "            except Exception as e:\n",
    "                print(f\" Failed: {local_path} - {e}\")\n"
   ]
  },
  {
   "cell_type": "markdown",
   "id": "689fdcb0",
   "metadata": {},
   "source": [
    "Manually specifying (using session profile) in the notebook to access profile default since it is not set in the environment"
   ]
  },
  {
   "cell_type": "code",
   "execution_count": 60,
   "id": "9174ad4c",
   "metadata": {},
   "outputs": [
    {
     "name": "stdout",
     "output_type": "stream",
     "text": [
      "None\n"
     ]
    }
   ],
   "source": [
    "import os\n",
    "# print(os.path.expanduser(\"~/.aws/credentials\"))\n",
    "print(os.environ.get(\"AWS_PROFILE\")) # here aws profile is not getting default but is set to None"
   ]
  }
 ],
 "metadata": {
  "kernelspec": {
   "display_name": "ds_mode",
   "language": "python",
   "name": "python3"
  },
  "language_info": {
   "codemirror_mode": {
    "name": "ipython",
    "version": 3
   },
   "file_extension": ".py",
   "mimetype": "text/x-python",
   "name": "python",
   "nbconvert_exporter": "python",
   "pygments_lexer": "ipython3",
   "version": "3.12.0"
  }
 },
 "nbformat": 4,
 "nbformat_minor": 5
}
